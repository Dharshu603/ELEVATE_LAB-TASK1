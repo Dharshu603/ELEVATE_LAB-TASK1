{
  "nbformat": 4,
  "nbformat_minor": 0,
  "metadata": {
    "colab": {
      "provenance": []
    },
    "kernelspec": {
      "name": "python3",
      "display_name": "Python 3"
    },
    "language_info": {
      "name": "python"
    }
  },
  "cells": [
    {
      "cell_type": "code",
      "execution_count": 1,
      "metadata": {
        "colab": {
          "base_uri": "https://localhost:8080/"
        },
        "id": "k0tyuWWhtKq8",
        "outputId": "a3a89da8-86ab-4fb3-bd3e-a7904e8d2026"
      },
      "outputs": [
        {
          "output_type": "stream",
          "name": "stdout",
          "text": [
            "Missing values before cleaning:\n",
            " ID\\tYear_Birth\\tEducation\\tMarital_Status\\tIncome\\tKidhome\\tTeenhome\\tDt_Customer\\tRecency\\tMntWines\\tMntFruits\\tMntMeatProducts\\tMntFishProducts\\tMntSweetProducts\\tMntGoldProds\\tNumDealsPurchases\\tNumWebPurchases\\tNumCatalogPurchases\\tNumStorePurchases\\tNumWebVisitsMonth\\tAcceptedCmp3\\tAcceptedCmp4\\tAcceptedCmp5\\tAcceptedCmp1\\tAcceptedCmp2\\tComplain\\tZ_CostContact\\tZ_Revenue\\tResponse    0\n",
            "dtype: int64\n",
            "Cleaned dataset saved as cleaned_dataset.csv\n"
          ]
        }
      ],
      "source": [
        "import pandas as pd\n",
        "\n",
        "# Load the dataset\n",
        "df = pd.read_csv(\"/content/marketing_campaign.csv\")  # Change this to your actual file name\n",
        "\n",
        "# 1. Identify and handle missing values\n",
        "missing_values = df.isnull().sum()\n",
        "print(\"Missing values before cleaning:\\n\", missing_values)\n",
        "\n",
        "# Option: Drop rows with any nulls (you can choose to fill instead)\n",
        "df = df.dropna()\n",
        "\n",
        "# 2. Remove duplicate rows\n",
        "df = df.drop_duplicates()\n",
        "\n",
        "# 3. Standardize text values\n",
        "# Example for gender and country columns (adjust according to your dataset)\n",
        "text_columns = ['gender', 'country']  # Add relevant text columns\n",
        "for col in text_columns:\n",
        "    if col in df.columns:\n",
        "        df[col] = df[col].astype(str).str.lower().str.strip()\n",
        "\n",
        "        if col == 'gender':\n",
        "            df[col] = df[col].replace({'m': 'male', 'f': 'female'})\n",
        "\n",
        "# 4. Convert date formats\n",
        "# Example for a 'date' column\n",
        "if 'date' in df.columns:\n",
        "    df['date'] = pd.to_datetime(df['date'], dayfirst=True, errors='coerce')\n",
        "\n",
        "# 5. Rename columns: lowercase, no spaces\n",
        "df.columns = df.columns.str.strip().str.lower().str.replace(' ', '_')\n",
        "\n",
        "# 6. Fix data types\n",
        "# Example for age column\n",
        "if 'age' in df.columns:\n",
        "    df['age'] = pd.to_numeric(df['age'], errors='coerce').astype('Int64')\n",
        "\n",
        "# Export cleaned dataset\n",
        "df.to_csv(\"cleaned_dataset.csv\", index=False)\n",
        "print(\"Cleaned dataset saved as cleaned_dataset.csv\")\n"
      ]
    }
  ]
}